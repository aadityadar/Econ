{
 "metadata": {
  "name": "Econ 8375 Assignment 0 AK"
 },
 "nbformat": 3,
 "nbformat_minor": 0,
 "worksheets": [
  {
   "cells": [
    {
     "cell_type": "markdown",
     "metadata": {},
     "source": "# Econ 8375: Practice problems for matrix algebra"
    },
    {
     "cell_type": "code",
     "collapsed": false,
     "input": "# Import modules\nimport numpy as np",
     "language": "python",
     "metadata": {},
     "outputs": [],
     "prompt_number": 153
    },
    {
     "cell_type": "markdown",
     "metadata": {},
     "source": "## Question 1"
    },
    {
     "cell_type": "code",
     "collapsed": false,
     "input": "a = np.matrix('3, 6; 2, 1') \nprint a",
     "language": "python",
     "metadata": {},
     "outputs": [
      {
       "output_type": "stream",
       "stream": "stdout",
       "text": "[[3 6]\n [2 1]]\n"
      }
     ],
     "prompt_number": 154
    },
    {
     "cell_type": "code",
     "collapsed": false,
     "input": "b = np.matrix('1, 2, 3, 0; 0, -1, 1, -1')\nprint b",
     "language": "python",
     "metadata": {},
     "outputs": [
      {
       "output_type": "stream",
       "stream": "stdout",
       "text": "[[ 1  2  3  0]\n [ 0 -1  1 -1]]\n"
      }
     ],
     "prompt_number": 155
    },
    {
     "cell_type": "code",
     "collapsed": false,
     "input": "y = np.matrix('-1; 1')\nprint y",
     "language": "python",
     "metadata": {},
     "outputs": [
      {
       "output_type": "stream",
       "stream": "stdout",
       "text": "[[-1]\n [ 1]]\n"
      }
     ],
     "prompt_number": 156
    },
    {
     "cell_type": "markdown",
     "metadata": {},
     "source": "### 1(a) "
    },
    {
     "cell_type": "code",
     "collapsed": false,
     "input": "ans1a_i = a * b\nprint ans1a_i",
     "language": "python",
     "metadata": {},
     "outputs": [
      {
       "output_type": "stream",
       "stream": "stdout",
       "text": "[[ 3  0 15 -6]\n [ 2  3  7 -1]]\n"
      }
     ],
     "prompt_number": 157
    },
    {
     "cell_type": "code",
     "collapsed": false,
     "input": "ans1a_ii = b.T * a\nprint ans1a_ii",
     "language": "python",
     "metadata": {},
     "outputs": [
      {
       "output_type": "stream",
       "stream": "stdout",
       "text": "[[ 3  6]\n [ 4 11]\n [11 19]\n [-2 -1]]\n"
      }
     ],
     "prompt_number": 158
    },
    {
     "cell_type": "markdown",
     "metadata": {},
     "source": "### 1(b)"
    },
    {
     "cell_type": "code",
     "collapsed": false,
     "input": "ans1b_i = (a + a.T) * b\nprint ans1b_i",
     "language": "python",
     "metadata": {},
     "outputs": [
      {
       "output_type": "stream",
       "stream": "stdout",
       "text": "[[ 6  4 26 -8]\n [ 8 14 26 -2]]\n"
      }
     ],
     "prompt_number": 159
    },
    {
     "cell_type": "code",
     "collapsed": false,
     "input": "ans1b_ii = a * b + a.T * b\nprint ans1b_ii",
     "language": "python",
     "metadata": {},
     "outputs": [
      {
       "output_type": "stream",
       "stream": "stdout",
       "text": "[[ 6  4 26 -8]\n [ 8 14 26 -2]]\n"
      }
     ],
     "prompt_number": 160
    },
    {
     "cell_type": "markdown",
     "metadata": {},
     "source": "### 1(c)"
    },
    {
     "cell_type": "code",
     "collapsed": false,
     "input": "ans1c_i = b * b.T\nprint ans1c_i ",
     "language": "python",
     "metadata": {},
     "outputs": [
      {
       "output_type": "stream",
       "stream": "stdout",
       "text": "[[14  1]\n [ 1  3]]\n"
      }
     ],
     "prompt_number": 161
    },
    {
     "cell_type": "code",
     "collapsed": false,
     "input": "ans1c_ii = b.T * b\nprint ans1c_ii ",
     "language": "python",
     "metadata": {},
     "outputs": [
      {
       "output_type": "stream",
       "stream": "stdout",
       "text": "[[ 1  2  3  0]\n [ 2  5  5  1]\n [ 3  5 10 -1]\n [ 0  1 -1  1]]\n"
      }
     ],
     "prompt_number": 162
    },
    {
     "cell_type": "markdown",
     "metadata": {},
     "source": "### 1(d)"
    },
    {
     "cell_type": "code",
     "collapsed": false,
     "input": "ans1d_i = a * y\nprint ans1d_i",
     "language": "python",
     "metadata": {},
     "outputs": [
      {
       "output_type": "stream",
       "stream": "stdout",
       "text": "[[ 3]\n [-1]]\n"
      }
     ],
     "prompt_number": 163
    },
    {
     "cell_type": "code",
     "collapsed": false,
     "input": "ans1d_ii = a.T * a * y\nprint ans1d_ii",
     "language": "python",
     "metadata": {},
     "outputs": [
      {
       "output_type": "stream",
       "stream": "stdout",
       "text": "[[ 7]\n [17]]\n"
      }
     ],
     "prompt_number": 164
    },
    {
     "cell_type": "code",
     "collapsed": false,
     "input": "ans1d_iii = y.T * a.T * a * y\nprint ans1d_iii",
     "language": "python",
     "metadata": {},
     "outputs": [
      {
       "output_type": "stream",
       "stream": "stdout",
       "text": "[[10]]\n"
      }
     ],
     "prompt_number": 165
    },
    {
     "cell_type": "markdown",
     "metadata": {},
     "source": "### 1(e)"
    },
    {
     "cell_type": "code",
     "collapsed": false,
     "input": "c = 1/float(9)\nprint c",
     "language": "python",
     "metadata": {},
     "outputs": [
      {
       "output_type": "stream",
       "stream": "stdout",
       "text": "0.111111111111\n"
      }
     ],
     "prompt_number": 166
    },
    {
     "cell_type": "code",
     "collapsed": false,
     "input": "z = np.matrix('-1, 6; 2, -3')\nprint z",
     "language": "python",
     "metadata": {},
     "outputs": [
      {
       "output_type": "stream",
       "stream": "stdout",
       "text": "[[-1  6]\n [ 2 -3]]\n"
      }
     ],
     "prompt_number": 167
    },
    {
     "cell_type": "code",
     "collapsed": false,
     "input": "ans1e = c * z * a\nprint ans1e",
     "language": "python",
     "metadata": {},
     "outputs": [
      {
       "output_type": "stream",
       "stream": "stdout",
       "text": "[[ 1.  0.]\n [ 0.  1.]]\n"
      }
     ],
     "prompt_number": 168
    },
    {
     "cell_type": "markdown",
     "metadata": {},
     "source": "## Question 2"
    },
    {
     "cell_type": "code",
     "collapsed": false,
     "input": "a = np.matrix('6, 4, 8; 3, 2, 1')\nprint a",
     "language": "python",
     "metadata": {},
     "outputs": [
      {
       "output_type": "stream",
       "stream": "stdout",
       "text": "[[6 4 8]\n [3 2 1]]\n"
      }
     ],
     "prompt_number": 169
    },
    {
     "cell_type": "code",
     "collapsed": false,
     "input": "b = np.matrix('-7, 6; 9, 8; 2, 1')\nprint b",
     "language": "python",
     "metadata": {},
     "outputs": [
      {
       "output_type": "stream",
       "stream": "stdout",
       "text": "[[-7  6]\n [ 9  8]\n [ 2  1]]\n"
      }
     ],
     "prompt_number": 170
    },
    {
     "cell_type": "markdown",
     "metadata": {},
     "source": "### 2(a)"
    },
    {
     "cell_type": "code",
     "collapsed": false,
     "input": "print a.T",
     "language": "python",
     "metadata": {},
     "outputs": [
      {
       "output_type": "stream",
       "stream": "stdout",
       "text": "[[6 3]\n [4 2]\n [8 1]]\n"
      }
     ],
     "prompt_number": 171
    },
    {
     "cell_type": "code",
     "collapsed": false,
     "input": "print b.T",
     "language": "python",
     "metadata": {},
     "outputs": [
      {
       "output_type": "stream",
       "stream": "stdout",
       "text": "[[-7  9  2]\n [ 6  8  1]]\n"
      }
     ],
     "prompt_number": 172
    },
    {
     "cell_type": "markdown",
     "metadata": {},
     "source": "### 2(b)"
    },
    {
     "cell_type": "code",
     "collapsed": false,
     "input": "ans2b_i = a + b.T\nprint ans2b_i",
     "language": "python",
     "metadata": {},
     "outputs": [
      {
       "output_type": "stream",
       "stream": "stdout",
       "text": "[[-1 13 10]\n [ 9 10  2]]\n"
      }
     ],
     "prompt_number": 173
    },
    {
     "cell_type": "code",
     "collapsed": false,
     "input": "ans2b_ii = a.T + b\nprint ans2b_ii",
     "language": "python",
     "metadata": {},
     "outputs": [
      {
       "output_type": "stream",
       "stream": "stdout",
       "text": "[[-1  9]\n [13 10]\n [10  2]]\n"
      }
     ],
     "prompt_number": 174
    },
    {
     "cell_type": "markdown",
     "metadata": {},
     "source": "### 2(c) "
    },
    {
     "cell_type": "code",
     "collapsed": false,
     "input": "# (A + B')' = A' + B\nprint (ans2b_i).T",
     "language": "python",
     "metadata": {},
     "outputs": [
      {
       "output_type": "stream",
       "stream": "stdout",
       "text": "[[-1  9]\n [13 10]\n [10  2]]\n"
      }
     ],
     "prompt_number": 175
    },
    {
     "cell_type": "markdown",
     "metadata": {},
     "source": "## Question 3"
    },
    {
     "cell_type": "code",
     "collapsed": false,
     "input": "a = np.matrix('3, 0, 1; -1, 2, 0; 0, 4, 1')\nprint a",
     "language": "python",
     "metadata": {},
     "outputs": [
      {
       "output_type": "stream",
       "stream": "stdout",
       "text": "[[ 3  0  1]\n [-1  2  0]\n [ 0  4  1]]\n"
      }
     ],
     "prompt_number": 176
    },
    {
     "cell_type": "code",
     "collapsed": false,
     "input": "b = np.matrix('3, 0, 1; 2, 2, -1; -5, 3, 0')\nprint b",
     "language": "python",
     "metadata": {},
     "outputs": [
      {
       "output_type": "stream",
       "stream": "stdout",
       "text": "[[ 3  0  1]\n [ 2  2 -1]\n [-5  3  0]]\n"
      }
     ],
     "prompt_number": 177
    },
    {
     "cell_type": "markdown",
     "metadata": {},
     "source": "### 3(a)"
    },
    {
     "cell_type": "code",
     "collapsed": false,
     "input": "a21 = a[1:, 0]\nprint a21",
     "language": "python",
     "metadata": {},
     "outputs": [
      {
       "output_type": "stream",
       "stream": "stdout",
       "text": "[[-1]\n [ 0]]\n"
      }
     ],
     "prompt_number": 178
    },
    {
     "cell_type": "code",
     "collapsed": false,
     "input": "a11 = a[0, 0]\nprint a11",
     "language": "python",
     "metadata": {},
     "outputs": [
      {
       "output_type": "stream",
       "stream": "stdout",
       "text": "3\n"
      }
     ],
     "prompt_number": 179
    },
    {
     "cell_type": "code",
     "collapsed": false,
     "input": "a12 = a[0, 1:]\nprint a12",
     "language": "python",
     "metadata": {},
     "outputs": [
      {
       "output_type": "stream",
       "stream": "stdout",
       "text": "[[0 1]]\n"
      }
     ],
     "prompt_number": 180
    },
    {
     "cell_type": "code",
     "collapsed": false,
     "input": "a22 = a[1:, 1:]\nprint a22",
     "language": "python",
     "metadata": {},
     "outputs": [
      {
       "output_type": "stream",
       "stream": "stdout",
       "text": "[[2 0]\n [4 1]]\n"
      }
     ],
     "prompt_number": 181
    },
    {
     "cell_type": "code",
     "collapsed": false,
     "input": "b21 = b[1:, 0]\nprint b21",
     "language": "python",
     "metadata": {},
     "outputs": [
      {
       "output_type": "stream",
       "stream": "stdout",
       "text": "[[ 2]\n [-5]]\n"
      }
     ],
     "prompt_number": 182
    },
    {
     "cell_type": "code",
     "collapsed": false,
     "input": "b11 = b[0, 0]\nprint b11",
     "language": "python",
     "metadata": {},
     "outputs": [
      {
       "output_type": "stream",
       "stream": "stdout",
       "text": "3\n"
      }
     ],
     "prompt_number": 183
    },
    {
     "cell_type": "code",
     "collapsed": false,
     "input": "b12 = b[0, 1:]\nprint b12",
     "language": "python",
     "metadata": {},
     "outputs": [
      {
       "output_type": "stream",
       "stream": "stdout",
       "text": "[[0 1]]\n"
      }
     ],
     "prompt_number": 184
    },
    {
     "cell_type": "code",
     "collapsed": false,
     "input": "b22 = b[1:, 1:]\nprint b22",
     "language": "python",
     "metadata": {},
     "outputs": [
      {
       "output_type": "stream",
       "stream": "stdout",
       "text": "[[ 2 -1]\n [ 3  0]]\n"
      }
     ],
     "prompt_number": 185
    },
    {
     "cell_type": "markdown",
     "metadata": {},
     "source": "### 2(b) "
    },
    {
     "cell_type": "code",
     "collapsed": false,
     "input": "# with partitioning\nab11 = a11 * b11 + a12 * b21\nprint ab11",
     "language": "python",
     "metadata": {},
     "outputs": [
      {
       "output_type": "stream",
       "stream": "stdout",
       "text": "[[4]]\n"
      }
     ],
     "prompt_number": 186
    },
    {
     "cell_type": "code",
     "collapsed": false,
     "input": "ab12 = a11 * b12 + a12 * b22\nprint ab12",
     "language": "python",
     "metadata": {},
     "outputs": [
      {
       "output_type": "stream",
       "stream": "stdout",
       "text": "[[3 3]]\n"
      }
     ],
     "prompt_number": 187
    },
    {
     "cell_type": "code",
     "collapsed": false,
     "input": "ab21 = a21 * b11 + a22 * b21\nprint ab21",
     "language": "python",
     "metadata": {},
     "outputs": [
      {
       "output_type": "stream",
       "stream": "stdout",
       "text": "[[1]\n [3]]\n"
      }
     ],
     "prompt_number": 188
    },
    {
     "cell_type": "code",
     "collapsed": false,
     "input": "ab22 = a21 * b12 + a22 * b22\nprint ab22",
     "language": "python",
     "metadata": {},
     "outputs": [
      {
       "output_type": "stream",
       "stream": "stdout",
       "text": "[[ 4 -3]\n [11 -4]]\n"
      }
     ],
     "prompt_number": 189
    },
    {
     "cell_type": "code",
     "collapsed": false,
     "input": "ans3b_i = np.bmat('ab11, ab12; ab21, ab22')\nprint ans3b_i ",
     "language": "python",
     "metadata": {},
     "outputs": [
      {
       "output_type": "stream",
       "stream": "stdout",
       "text": "[[ 4  3  3]\n [ 1  4 -3]\n [ 3 11 -4]]\n"
      }
     ],
     "prompt_number": 190
    },
    {
     "cell_type": "code",
     "collapsed": false,
     "input": "# without partitioning \nans3b_ii = a * b\nprint ans3b_ii",
     "language": "python",
     "metadata": {},
     "outputs": [
      {
       "output_type": "stream",
       "stream": "stdout",
       "text": "[[ 4  3  3]\n [ 1  4 -3]\n [ 3 11 -4]]\n"
      }
     ],
     "prompt_number": 191
    },
    {
     "cell_type": "markdown",
     "metadata": {},
     "source": "## Question 4"
    },
    {
     "cell_type": "code",
     "collapsed": false,
     "input": "x = np.matrix('-1; 3; 5')\nprint x",
     "language": "python",
     "metadata": {},
     "outputs": [
      {
       "output_type": "stream",
       "stream": "stdout",
       "text": "[[-1]\n [ 3]\n [ 5]]\n"
      }
     ],
     "prompt_number": 192
    },
    {
     "cell_type": "code",
     "collapsed": false,
     "input": "y = np.matrix('2; -2; 1')\nprint y",
     "language": "python",
     "metadata": {},
     "outputs": [
      {
       "output_type": "stream",
       "stream": "stdout",
       "text": "[[ 2]\n [-2]\n [ 1]]\n"
      }
     ],
     "prompt_number": 193
    },
    {
     "cell_type": "code",
     "collapsed": false,
     "input": "ans4_inner = x.T * y\nprint ans4_inner ",
     "language": "python",
     "metadata": {},
     "outputs": [
      {
       "output_type": "stream",
       "stream": "stdout",
       "text": "[[-3]]\n"
      }
     ],
     "prompt_number": 194
    },
    {
     "cell_type": "code",
     "collapsed": false,
     "input": "ans4_outer = x * y.T\nprint ans4_outer ",
     "language": "python",
     "metadata": {},
     "outputs": [
      {
       "output_type": "stream",
       "stream": "stdout",
       "text": "[[ -2   2  -1]\n [  6  -6   3]\n [ 10 -10   5]]\n"
      }
     ],
     "prompt_number": 195
    }
   ],
   "metadata": {}
  }
 ]
}